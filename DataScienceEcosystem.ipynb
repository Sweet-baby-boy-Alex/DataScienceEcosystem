{
 "cells": [
  {
   "cell_type": "markdown",
   "id": "eb131215-ef20-4432-8630-9377840d72b6",
   "metadata": {},
   "source": [
    "# Data Science Tools and Ecosystem \n",
    "## Author\n",
    "Alexandros Tourloukis"
   ]
  },
  {
   "cell_type": "markdown",
   "id": "d716b054-d290-4801-a9ef-a0bf3669ef33",
   "metadata": {},
   "source": [
    "In this notebook, Data Science Tools and Ecosystem are summarized.\n",
    "\n",
    "__Objectives:__\n",
    "- List some popular languages in data science\n",
    "- List some commonly used libraries in data science\n",
    "- List some open source data science tools\n",
    "- Demonstrate some simple arithmetic in Python"
   ]
  },
  {
   "cell_type": "markdown",
   "id": "2f3f1043-e852-43f7-873e-e97143637e77",
   "metadata": {},
   "source": [
    "Some of the popular languages that Data Scientists use are:\n",
    "1. Python\n",
    "2. SQL\n",
    "3. R"
   ]
  },
  {
   "cell_type": "markdown",
   "id": "990b6868-e908-411e-8e63-f0c2e5d44f66",
   "metadata": {},
   "source": [
    "Some of the commonly used libraries used by Data Scientists include:\n",
    "1. ggplot\n",
    "2. Pandas\n",
    "3. NumPy"
   ]
  },
  {
   "cell_type": "markdown",
   "id": "22c0ca63-c344-4a6e-8e46-081885f789c9",
   "metadata": {},
   "source": [
    "|Data Science Tools|\n",
    "|----|\n",
    "|Model Asset Exchange|\n",
    "|Anaconda|\n",
    "|Jupyter Notebook|"
   ]
  },
  {
   "cell_type": "markdown",
   "id": "85498fed-cfa6-40db-b12a-e5a1ec41ebe9",
   "metadata": {},
   "source": [
    "### Below are a few examples of evaluating arithmetic expressions in Python"
   ]
  },
  {
   "cell_type": "code",
   "execution_count": 2,
   "id": "1d682aa0-62f1-431c-85f0-e0e1f0589229",
   "metadata": {},
   "outputs": [
    {
     "data": {
      "text/plain": [
       "19"
      ]
     },
     "execution_count": 2,
     "metadata": {},
     "output_type": "execute_result"
    }
   ],
   "source": [
    "9+10"
   ]
  },
  {
   "cell_type": "code",
   "execution_count": 3,
   "id": "e944887a-93e6-4ef3-8f26-4b3dea6a8272",
   "metadata": {},
   "outputs": [
    {
     "data": {
      "text/plain": [
       "21"
      ]
     },
     "execution_count": 3,
     "metadata": {},
     "output_type": "execute_result"
    }
   ],
   "source": [
    "11+10"
   ]
  },
  {
   "cell_type": "code",
   "execution_count": 4,
   "id": "cea493c4-4bc8-4e0b-8d7b-40b2aceeea5e",
   "metadata": {},
   "outputs": [
    {
     "data": {
      "text/plain": [
       "17"
      ]
     },
     "execution_count": 4,
     "metadata": {},
     "output_type": "execute_result"
    }
   ],
   "source": [
    "#This a simple arithmetic expression to mutiply then add integers\n",
    "(3*4)+5"
   ]
  },
  {
   "cell_type": "code",
   "execution_count": 5,
   "id": "76cecf12-5441-4956-a822-a12af3e1896a",
   "metadata": {},
   "outputs": [
    {
     "data": {
      "text/plain": [
       "3.3333333333333335"
      ]
     },
     "execution_count": 5,
     "metadata": {},
     "output_type": "execute_result"
    }
   ],
   "source": [
    "#This will convert 200 minutes to hours by diving by 60\n",
    "200/60"
   ]
  },
  {
   "cell_type": "code",
   "execution_count": null,
   "id": "4eb0d5ac-4389-424d-ad6f-80809d01e543",
   "metadata": {},
   "outputs": [],
   "source": []
  }
 ],
 "metadata": {
  "kernelspec": {
   "display_name": "Python 3 (ipykernel)",
   "language": "python",
   "name": "python3"
  },
  "language_info": {
   "codemirror_mode": {
    "name": "ipython",
    "version": 3
   },
   "file_extension": ".py",
   "mimetype": "text/x-python",
   "name": "python",
   "nbconvert_exporter": "python",
   "pygments_lexer": "ipython3",
   "version": "3.9.12"
  }
 },
 "nbformat": 4,
 "nbformat_minor": 5
}
